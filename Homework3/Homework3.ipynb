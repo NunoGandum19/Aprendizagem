{
 "cells": [
  {
   "cell_type": "markdown",
   "metadata": {},
   "source": [
    "### **HOMEWORK 3**  <h3>\n",
    "\n",
    "Inicialmente temos que ler o DataSet. "
   ]
  },
  {
   "cell_type": "code",
   "execution_count": null,
   "metadata": {},
   "outputs": [],
   "source": [
    "import pandas as pd\n",
    "from sklearn.model_selection import train_test_split\n",
    "from sklearn.preprocessing import StandardScaler\n",
    "from sklearn.neural_network import MLPRegressor\n",
    "from sklearn.metrics import r2_score, mean_absolute_error, mean_squared_error \n",
    "import numpy as np\n",
    "import matplotlib.pyplot as plt\n",
    "\n",
    "# Ler o ficheiro\n",
    "data = pd.read_csv(\"winequality-red.csv\", delimiter=';')\n",
    "\n",
    "X = data.drop('quality', axis=1)\n",
    "y = data['quality']\n",
    "\n",
    "# Normalização dos dados\n",
    "scaler = StandardScaler()\n",
    "X_scaled = scaler.fit_transform(X)\n",
    "\n",
    "# Fazer um train/test split (80 treino e 20 teste)\n",
    "X_train, X_test, y_train, y_test = train_test_split(X_scaled, y, test_size=0.2, random_state=0)"
   ]
  },
  {
   "cell_type": "markdown",
   "metadata": {},
   "source": [
    "### **Exercício 1**  <h3>"
   ]
  },
  {
   "cell_type": "markdown",
   "metadata": {},
   "source": []
  },
  {
   "cell_type": "code",
   "execution_count": null,
   "metadata": {},
   "outputs": [],
   "source": [
    "#lista residuos\n",
    "resid = []\n",
    "\n",
    "# iteração para cada random state\n",
    "for i in range(1, 10):\n",
    "    # Initialize the MLP regressor with random state\n",
    "    mlp = MLPRegressor(hidden_layer_sizes=(10, 10),\n",
    "                   activation='relu',\n",
    "                   early_stopping=True,\n",
    "                   validation_fraction=0.2,\n",
    "                   random_state=i)\n",
    "    \n",
    "   \n",
    "    # treinar o modelo\n",
    "    mlp.fit(X_train, y_train)\n",
    "    \n",
    "    # obter y previsto\n",
    "    y_pred = mlp.predict(X_test)\n",
    "\n",
    "    # obter os resíduos\n",
    "    residuos = y_test - y_pred\n",
    "\n",
    "    # Calcular o módulo dos resíduos\n",
    "    abs_residuos = abs(residuos)\n",
    "    \n",
    "    resid.append(abs_residuos)\n",
    "\n",
    "    "
   ]
  }
 ],
 "metadata": {
  "kernelspec": {
   "display_name": "Python 3",
   "language": "python",
   "name": "python3"
  },
  "language_info": {
   "name": "python",
   "version": "3.8.10"
  }
 },
 "nbformat": 4,
 "nbformat_minor": 2
}
