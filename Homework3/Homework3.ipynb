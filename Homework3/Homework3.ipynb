{
 "cells": [
  {
   "cell_type": "markdown",
   "metadata": {},
   "source": [
    "### **HOMEWORK 3**  <h3>\n",
    "\n",
    "Inicialmente temos que ler o DataSet. "
   ]
  },
  {
   "cell_type": "code",
   "execution_count": null,
   "metadata": {},
   "outputs": [],
   "source": [
    "import pandas as pd\n",
    "from sklearn.model_selection import train_test_split\n",
    "from sklearn.preprocessing import StandardScaler\n",
    "from sklearn.neural_network import MLPRegressor\n",
    "from sklearn.metrics import r2_score, mean_absolute_error, mean_squared_error \n",
    "import numpy as np\n",
    "import matplotlib.pyplot as plt\n",
    "\n",
    "# Ler o ficheiro\n",
    "data = pd.read_csv(\"winequality-red.csv\", delimiter=';')\n",
    "\n",
    "X = data.drop('quality', axis=1)\n",
    "y = data['quality']\n",
    "\n",
    "# Normalização dos dados\n",
    "scaler = StandardScaler()\n",
    "X_scaled = scaler.fit_transform(X)\n",
    "\n",
    "# Fazer um train/test split (80 treino e 20 teste)\n",
    "X_train, X_test, y_train, y_test = train_test_split(X_scaled, y, test_size=0.2, random_state=0)"
   ]
  },
  {
   "cell_type": "markdown",
   "metadata": {},
   "source": [
    "### **Exercício 1**  <h3>"
   ]
  },
  {
   "cell_type": "markdown",
   "metadata": {},
   "source": []
  },
  {
   "cell_type": "code",
   "execution_count": null,
   "metadata": {},
   "outputs": [],
   "source": [
    "#lista residuos\n",
    "resid = []\n",
    "\n",
    "# iteração para cada random state\n",
    "for i in range(1, 10):\n",
    "    # Initialize the MLP regressor with random state\n",
    "    mlp = MLPRegressor(hidden_layer_sizes=(10, 10),\n",
    "                   activation='relu',\n",
    "                   early_stopping=True,\n",
    "                   validation_fraction=0.2,\n",
    "                   random_state=i)\n",
    "    \n",
    "   \n",
    "    # treinar o modelo\n",
    "    mlp.fit(X_train, y_train)\n",
    "    \n",
    "    # obter y previsto\n",
    "    y_pred = mlp.predict(X_test)\n",
    "\n",
    "    # obter os resíduos\n",
    "    residuos = y_test - y_pred\n",
    "\n",
    "    # Calcular o módulo dos resíduos\n",
    "    abs_residuos = abs(residuos)\n",
    "    \n",
    "    resid.append(abs_residuos)\n",
    "\n",
    "    "
   ]
  },
  {
   "cell_type": "markdown",
   "metadata": {},
   "source": []
  },
  {
   "cell_type": "code",
   "execution_count": null,
   "metadata": {},
   "outputs": [],
   "source": [
    "# obtemos a médio dos resíduos\n",
    "average_resid = sum(resid) / len(resid)\n",
    "print(\"Resíduos:\", average_resid)\n",
    "\n",
    "# fazer o histograma\n",
    "plt.hist(average_resid, bins=20, edgecolor='k')\n",
    "plt.title('Distribution of Absolute Residuals')\n",
    "plt.xlabel('Absolute Residuals')\n",
    "plt.ylabel('Frequency')\n",
    "plt.show()"
   ]
  },
  {
   "cell_type": "markdown",
   "metadata": {},
   "source": []
  },
  {
   "cell_type": "code",
   "execution_count": null,
   "metadata": {},
   "outputs": [],
   "source": [
    "# aproximamos os valores previstos para os valores inteiros mais próximos\n",
    "rounded_predictions = np.round(y_pred)\n",
    "\n",
    "# obter máximo e mínimo do target\n",
    "min_target = np.min(y_train)\n",
    "max_target = np.max(y_train)\n",
    "\n",
    "# garantir que os valores previstos estão dentro do intervalo do target\n",
    "bounded_predictions = np.clip(rounded_predictions, min_target, max_target)\n",
    "\n",
    "# obter o MAE com os valores originais\n",
    "mae_original = mean_absolute_error(y_test, y_pred)\n",
    "\n",
    "# obtet o MAE com os valores arredondados\n",
    "mae_rounded = mean_absolute_error(y_test, bounded_predictions)\n",
    "\n",
    "print(\"MAE with Original Predictions:\", mae_original)\n",
    "print(\"MAE with Rounded and Bounded Predictions:\", mae_rounded)"
   ]
  }
 ],
 "metadata": {
  "kernelspec": {
   "display_name": "Python 3",
   "language": "python",
   "name": "python3"
  },
  "language_info": {
   "name": "python",
   "version": "3.8.10"
  }
 },
 "nbformat": 4,
 "nbformat_minor": 2
}
