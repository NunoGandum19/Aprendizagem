{
 "cells": [
  {
   "cell_type": "markdown",
   "metadata": {},
   "source": [
    "Considere o DataSet column_diagnosis.arff composto por 6 features mecânicas para classificar 310 pacientes ortopédicos em 3 classes (Normal, disk hernia, spondilolysthesis). \n",
    "\n",
    "### **1)** Aplique a função f_classif de sklearn para aceder ao poder discriminativo das variáveis de input. Identifique as variáveis de input com o maior e menor poder discriminativo. Desenhe as funções de densidade de probabilidade condicionadas às 3 classes de output, para as duas variáveis de input identificadas acima. <h3>\n",
    "\n",
    "Inicialmente há que ler o DataSet. "
   ]
  },
  {
   "cell_type": "code",
   "execution_count": null,
   "metadata": {},
   "outputs": [],
   "source": [
    "import pandas as pd\n",
    "from scipy.io.arff import loadarff\n",
    "import numpy as np\n",
    "import matplotlib.pyplot as plt\n",
    "import seaborn as sns\n",
    "from scipy.stats import norm\n",
    "from scipy import stats\n",
    "from sklearn.feature_selection import f_classif\n",
    "\n",
    "data = loadarff('column_diagnosis.arff')\n",
    "df = pd.DataFrame(data[0])\n",
    "df['class'] = df['class'].str.decode('utf-8')"
   ]
  },
  {
   "cell_type": "markdown",
   "metadata": {},
   "source": [
    "De seguida, é necessário separar os dados em dois grupos: um para as features (variáveis de input) e outro para as classes (variáveis de output)."
   ]
  },
  {
   "cell_type": "code",
   "execution_count": null,
   "metadata": {},
   "outputs": [],
   "source": [
    "target = df['class']\n",
    "variables = df.drop('class', axis=1)"
   ]
  },
  {
   "cell_type": "markdown",
   "metadata": {},
   "source": [
    "Com a função f_classif, é possível calcular o F-statistic e o p-value para cada feature."
   ]
  },
  {
   "cell_type": "code",
   "execution_count": null,
   "metadata": {},
   "outputs": [],
   "source": [
    "fimportance = f_classif(variables, target)\n",
    "fstat = fimportance[0]\n",
    "pval = fimportance[1]"
   ]
  },
  {
   "cell_type": "markdown",
   "metadata": {},
   "source": [
    "Para identificar as variáveis de input com o maior e menor poder discriminativo, cria-se um DataFrame em que cada linha corresponde a uma feature e as colunas correspondem ao F-statistic e ao p-value dessa feature. De seguida ordenou-se esse DataFrame pelo F-statistic(crescente). Selecionou-se a primeira e a última linha do DataFrame, que correspondem às features com maior e menor poder discriminativo, respetivamente."
   ]
  },
  {
   "cell_type": "code",
   "execution_count": null,
   "metadata": {},
   "outputs": [],
   "source": [
    "fstat_df = pd.DataFrame({'F-statistic': fstat, 'p-value': pval})\n",
    "fstat_df.index = variables.columns                                 # Set the index to the variable names\n",
    "fstat_df = fstat_df.sort_values(by=['F-statistic'], ascending=False)\n",
    "print(fstat_df)\n",
    "print(\"The variables with the highest and lowest F-statistic are degree_spondylolisthesis and pelvic_radius, respectively.\")"
   ]
  },
  {
   "cell_type": "markdown",
   "metadata": {},
   "source": [
    "|        Class                  | F-statistic |    p-value   |\n",
    "|:------------------------:|:-----------:|:------------:|\n",
    "| degree_spondylolisthesis |  119.122881 | 5.114732e-39 |\n",
    "|   lumbar_lordosis_angle  |  114.982840 | 5.357329e-38 |\n",
    "|     pelvic_incidence     |  98.539709  | 8.752849e-34 |\n",
    "|       sacral_slope       |  89.643953  | 2.175670e-31 |\n",
    "|        pelvic_tilt       |  21.299194  | 2.176879e-09 |\n",
    "|       pelvic_radius      |  16.866935  | 1.121996e-07 |\n",
    "\n",
    "The variables with the highest and lowest F-statistic are degree_spondylolisthesis and pelvic_radius, respectively."
   ]
  },
  {
   "cell_type": "markdown",
   "metadata": {},
   "source": [
    "Por fim, há que desenhar as funções de densidade de probabilidade condicionadas às 3 classes de output, para as duas variáveis de input identificadas acima."
   ]
  },
  {
   "cell_type": "code",
   "execution_count": null,
   "metadata": {},
   "outputs": [],
   "source": [
    "sns.set_style('whitegrid')\n",
    "sns.kdeplot(df['degree_spondylolisthesis'][df['class'] == 'Hernia'], fill = False, label= 'Hernia', color = 'blue')\n",
    "sns.kdeplot(df['degree_spondylolisthesis'][df['class'] == 'Spondylolisthesis'], fill = False, label='Spondylolisthesis', color = 'green')\n",
    "sns.kdeplot(df['degree_spondylolisthesis'][df['class'] == 'Normal'], fill = False, label='Normal', color = 'orange')\n",
    "plt.xlabel('Degree Spondylolisthesis')\n",
    "plt.ylabel('Probability Density')\n",
    "plt.title('Class-Conditional Prob. Dens. Func of Degree Spondylolisthesis')\n",
    "plt.legend()\n",
    "plt.show()\n",
    "\n",
    "sns.set_style('whitegrid')\n",
    "sns.kdeplot(df['pelvic_radius'][df['class'] == 'Hernia'], fill=False, label='Hernia', color = 'blue')\n",
    "sns.kdeplot(df['pelvic_radius'][df['class'] == 'Spondylolisthesis'], fill=False, label='Spondylolisthesis', color = 'green')\n",
    "sns.kdeplot(df['pelvic_radius'][df['class'] == 'Normal'], fill=False, label='Normal', color = 'orange')\n",
    "plt.xlabel('Pelvic Radius')\n",
    "plt.ylabel('Probability Density')\n",
    "plt.title('Class-Conditional Prob. Dens Func of Pelvic Radius')\n",
    "plt.legend()\n",
    "plt.show()"
   ]
  },
  {
   "cell_type": "markdown",
   "metadata": {},
   "source": [
    "!!!!!!!!! Por as imagens !!!!!!!!!"
   ]
  },
  {
   "cell_type": "markdown",
   "metadata": {},
   "source": [
    "### **2)**  <h3>"
   ]
  }
 ],
 "metadata": {
  "language_info": {
   "name": "python"
  },
  "orig_nbformat": 4
 },
 "nbformat": 4,
 "nbformat_minor": 2
}
